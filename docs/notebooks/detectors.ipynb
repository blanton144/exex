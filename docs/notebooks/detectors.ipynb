{
 "cells": [
  {
   "cell_type": "code",
   "execution_count": 1,
   "metadata": {},
   "outputs": [],
   "source": [
    "%matplotlib inline\n",
    "import numpy as np\n",
    "import scipy.special\n",
    "import matplotlib.pyplot as plt\n",
    "import matplotlib\n",
    "matplotlib.rcParams['figure.figsize'] = [8, 6]\n",
    "matplotlib.rcParams['font.size'] = 16 "
   ]
  },
  {
   "cell_type": "markdown",
   "metadata": {},
   "source": [
    "## Analytic Exercise #2 (numerical addendum)"
   ]
  },
  {
   "cell_type": "markdown",
   "metadata": {},
   "source": [
    "The noise in a data set is determined by the Poisson noise in\n",
    "the expectation value of the signal. However, observationally we often\n",
    "only have access to one realization of the signal, and often the\n",
    "quoted errors are based on the Poisson noise in that signal.  If we\n",
    "take multiple observations and combine them together weighting by the\n",
    "inverse variance estimated in this way, it leads to a bias. Ignoring\n",
    "any background contribution to the noise, estimate this bias as a\n",
    "function of $n$."
   ]
  },
  {
   "cell_type": "markdown",
   "metadata": {},
   "source": [
    "The solution to this problem in the answer set leads to an expectation value for the estimator $\\hat n$:\n",
    "\n",
    "$$\\langle {\\hat n} \\rangle = \\left\\langle\\frac{1}{n}\\right\\rangle^{-1}$$\n",
    "\n",
    "where $n$ represents any individual observation. The inverse of the average of the inverse of $n$ is not in general equal to the average of $\\bar n$; we expect it to be a little larger.\n",
    "\n",
    "For large $\\bar n$, we can approximate the Poisson distribution as Gaussian, and some further approximations lead to the estimate:\n",
    "\n",
    "$$\\langle {\\hat n} \\rangle = {\\bar n} \\left(1 + \\frac{1}{\\bar n}\\right)$$\n",
    "\n",
    "We can evaluate this expectation value more accurately under the Poisson distribution using numerics. But we have to account for what we do in our estimator in cases that the observed $n$ is zero; an inverse variance weighting would lead to an infinite weight, so we can't do that. We will use a variance of unity, but the need to make this choice is just yet another alarm bell that there is something wrong about using the data to estimate its own variance."
   ]
  },
  {
   "cell_type": "code",
   "execution_count": 2,
   "metadata": {},
   "outputs": [],
   "source": [
    "def poisson_inverse_mean(nbar=None):\n",
    "    \"\"\"Returns mean of the inverse of n under a Poisson distribution with mean nbar\n",
    "    \n",
    "    Parameters\n",
    "    ----------\n",
    "    \n",
    "    nbar : float\n",
    "        mean of Poisson distribution to test\n",
    "        \n",
    "    Returns\n",
    "    -------\n",
    "    \n",
    "    invn : float\n",
    "        mean of inverse of n\n",
    "        \n",
    "    Notes\n",
    "    -----\n",
    "    \n",
    "    Determines the mean using 0 <= n <= 5*nbar or 10 (whichever is larger).\n",
    "\"\"\"\n",
    "    nmax = np.int32(5 * nbar)\n",
    "    if(nmax < 10):\n",
    "        nmax = 10\n",
    "    \n",
    "    # make Poisson distribution\n",
    "    ns = np.arange(nmax + 1, dtype=np.float32)\n",
    "    p = (ns * np.log(nbar) - nbar - scipy.special.gammaln(ns + 1))\n",
    "    p = np.exp(p)\n",
    "    \n",
    "    # make inverse n, but with 1/0 = 1\n",
    "    invns = ns.copy()\n",
    "    invns[0] = 1. \n",
    "    invns = 1. / invns\n",
    "    \n",
    "    invn = (invns * p).sum() / p.sum()\n",
    "    return(invn)"
   ]
  },
  {
   "cell_type": "code",
   "execution_count": 3,
   "metadata": {},
   "outputs": [],
   "source": [
    "nn = 1000\n",
    "nmin = 0.2 \n",
    "nmax = 20.\n",
    "nbars = (np.arange(nn)) * (nmax - nmin) / np.float32(nn - 1) + nmin\n",
    "estn = np.zeros(nn, dtype=np.float32)\n",
    "for i, nbar in enumerate(nbars):\n",
    "    estn[i] = 1. / poisson_inverse_mean(nbar=nbar)"
   ]
  },
  {
   "cell_type": "code",
   "execution_count": 4,
   "metadata": {},
   "outputs": [
    {
     "data": {
      "text/plain": [
       "<matplotlib.legend.Legend at 0x7fe7ce1fab50>"
      ]
     },
     "execution_count": 4,
     "metadata": {},
     "output_type": "execute_result"
    },
    {
     "data": {
      "image/png": "[encoded data removed]",
      "text/plain": [
       "<Figure size 576x432 with 1 Axes>"
      ]
     },
     "metadata": {
      "needs_background": "light"
     },
     "output_type": "display_data"
    }
   ],
   "source": [
    "plt.plot(nbars, estn / nbars, color='black', label='Poisson')\n",
    "plt.plot(nbars, (1. - 1. / (nbars)), color='red', label='Gaussian approx.')\n",
    "plt.plot(nbars, np.ones(nn, dtype=np.float32), color='black', linestyle='dotted')\n",
    "plt.xlabel(r'$\\bar n$')\n",
    "plt.ylabel(r'$\\langle \\hat n \\rangle / \\bar n$')\n",
    "plt.ylim([0., 2.])\n",
    "plt.legend()"
   ]
  },
  {
   "cell_type": "markdown",
   "metadata": {},
   "source": [
    "When $\\bar n$ is low, using $n$ as an estimate of its own variance gets very lousy, and the estimate of $n$ from multiple observations averaged by the inverse variance is very overestimated. This can be changed depending on how $n=0$ observations are treated.\n",
    "\n",
    "At higher $\\bar n$ the estimate gets better but generally will lead to an underestimate. The Gaussian model for this bias is not bad above $\\bar n \\sim 10$ or so (depending on the precision you need!). Note that this implies that even for $\\bar n \\approx 100$, using the data itself for an inverse variance estimate leads to a 1\\% bias."
   ]
  },
  {
   "cell_type": "code",
   "execution_count": null,
   "metadata": {},
   "outputs": [],
   "source": []
  }
 ],
 "metadata": {
  "kernelspec": {
   "display_name": "Python 3",
   "language": "python",
   "name": "python3"
  },
  "language_info": {
   "codemirror_mode": {
    "name": "ipython",
    "version": 3
   },
   "file_extension": ".py",
   "mimetype": "text/x-python",
   "name": "python",
   "nbconvert_exporter": "python",
   "pygments_lexer": "ipython3",
   "version": "3.8.5"
  }
 },
 "nbformat": 4,
 "nbformat_minor": 4
}
