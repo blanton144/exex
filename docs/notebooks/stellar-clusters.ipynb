{
 "cells": [
  {
   "cell_type": "code",
   "execution_count": 1,
   "metadata": {},
   "outputs": [],
   "source": [
    "import astropy.io.fits as fits\n",
    "import numpy as np\n",
    "import matplotlib.pyplot as plt\n",
    "from astropy import units as u\n",
    "from astropy.coordinates import SkyCoord\n",
    "import warnings\n",
    "warnings.filterwarnings(\"ignore\") # python doesn't like columns with symbols in the name"
   ]
  },
  {
   "cell_type": "markdown",
   "metadata": {},
   "source": [
    "### 3. Open cluster metallicities in the Milky Way\n",
    "\n",
    "*Author: Nick Faucher*"
   ]
  },
  {
   "cell_type": "code",
   "execution_count": 2,
   "metadata": {},
   "outputs": [
    {
     "name": "stdout",
     "output_type": "stream",
     "text": [
      "There are 2167 clusters\n"
     ]
    }
   ],
   "source": [
    "# data from http://cdsarc.u-strasbg.fr/viz-bin/qcat?J/A+A/389/871\n",
    "# README: http://cdsarc.u-strasbg.fr/ftp/J/A+A/389/871/ReadMe\n",
    "hdul = fits.open('J_A+A_389_871_clusters.dat.fits')\n",
    "hdr = hdul[1].data\n",
    "print('There are', len(hdr['Cluster']), 'clusters')"
   ]
  },
  {
   "cell_type": "code",
   "execution_count": 3,
   "metadata": {},
   "outputs": [],
   "source": [
    "ra = hdr['RAh'] * 15. + (hdr['RAm']/60) * 15 + (hdr['RAs']/3600) * 15\n",
    "dec_sign_str = hdr['DE-']\n",
    "dec_sign = np.zeros(len(dec_sign_str))\n",
    "dec = hdr['DEd'] + (hdr['DEm']/60) + (hdr['DEs']/3600) # in degrees\n",
    "for i in range(len(dec_sign_str)):\n",
    "    if dec_sign_str[i] == '+':\n",
    "        dec_sign[i] = 1\n",
    "    else:\n",
    "        dec_sign[i] = -1\n",
    "dec = dec*dec_sign"
   ]
  },
  {
   "cell_type": "code",
   "execution_count": 4,
   "metadata": {},
   "outputs": [],
   "source": [
    "metallicity = hdr['[Fe/H]']\n",
    "d = hdr['Dist'] # distance from Earth to cluster in pc\n",
    "r_s = 8585 # distance from sun to MW center in pc"
   ]
  },
  {
   "cell_type": "code",
   "execution_count": 5,
   "metadata": {},
   "outputs": [],
   "source": [
    "c_icrs = SkyCoord(ra=ra, dec=dec, frame='icrs', unit='deg')\n",
    "\n",
    "l = c_icrs.galactic.l.radian\n",
    "b = c_icrs.galactic.b.radian"
   ]
  },
  {
   "cell_type": "code",
   "execution_count": 6,
   "metadata": {},
   "outputs": [],
   "source": [
    "# use galactic coordiantes to find distance from MW center\n",
    "# law of cosines to calculate distance from MW center to cluster projected onto the plane of the disk\n",
    "r1 = np.sqrt(d**2 + r_s**2 - (2 * d * r_s * np.cos(l))) \n",
    "r2 = d * np.sin(b) # distance of cluster from plane of galactic disk\n",
    "r_MW = np.sqrt(r1**2 + r2**2) # distance of cluster from MW center"
   ]
  },
  {
   "cell_type": "code",
   "execution_count": 7,
   "metadata": {},
   "outputs": [
    {
     "name": "stdout",
     "output_type": "stream",
     "text": [
      "Number of clusters with no metallicity data 1869\n"
     ]
    }
   ],
   "source": [
    "count = 0\n",
    "for i in range(len(metallicity)):\n",
    "    if metallicity[i] == 0:\n",
    "        count = count + 1\n",
    "\n",
    "print('Number of clusters with no metallicity data', count)\n"
   ]
  },
  {
   "cell_type": "code",
   "execution_count": 8,
   "metadata": {},
   "outputs": [
    {
     "data": {
      "image/png": "[encoded data removed]",
      "text/plain": [
       "<Figure size 432x288 with 1 Axes>"
      ]
     },
     "metadata": {
      "needs_background": "light"
     },
     "output_type": "display_data"
    }
   ],
   "source": [
    "mask = metallicity != 0 # mask to filter out data points with no metallicity data\n",
    "\n",
    "error_metal = hdr['e_[Fe/H]']\n",
    "\n",
    "plt.errorbar(r_MW[mask],metallicity[mask], yerr=error_metal[mask],\n",
    "             marker='o', markersize=2, linewidth=0, elinewidth=0.2)\n",
    "plt.xlabel('Distance from MW center (pc)')\n",
    "plt.ylabel('Metallicity [Fe/H]')\n",
    "plt.show()"
   ]
  },
  {
   "cell_type": "markdown",
   "metadata": {},
   "source": [
    "This result shows clearly how the metallicity of recently formed stars declines with distance from the center of the Milky Way."
   ]
  },
  {
   "cell_type": "code",
   "execution_count": null,
   "metadata": {},
   "outputs": [],
   "source": []
  }
 ],
 "metadata": {
  "kernelspec": {
   "display_name": "Python 3",
   "language": "python",
   "name": "python3"
  },
  "language_info": {
   "codemirror_mode": {
    "name": "ipython",
    "version": 3
   },
   "file_extension": ".py",
   "mimetype": "text/x-python",
   "name": "python",
   "nbconvert_exporter": "python",
   "pygments_lexer": "ipython3",
   "version": "3.8.3"
  }
 },
 "nbformat": 4,
 "nbformat_minor": 4
}
