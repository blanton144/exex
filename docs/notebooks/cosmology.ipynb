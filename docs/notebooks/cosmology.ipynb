{
 "cells": [
  {
   "cell_type": "code",
   "execution_count": 2,
   "metadata": {},
   "outputs": [],
   "source": [
    "import numpy as np\n",
    "import matplotlib.pyplot as plt"
   ]
  },
  {
   "cell_type": "markdown",
   "metadata": {},
   "source": [
    "## 1. Densities as a function of redshift "
   ]
  },
  {
   "cell_type": "markdown",
   "metadata": {},
   "source": [
    "*Author: Nicholas Faucher*\n",
    "\n",
    "Plot $Ω_m(z)$ and $Ω_Λ(z)$ between $z = 0$ and $5$, for a flat Universe, assuming $Ω_m(z = 0) = 0.3$.\n"
   ]
  },
  {
   "cell_type": "markdown",
   "metadata": {},
   "source": [
    "We start with the definitions:\n",
    "\n",
    "$Ω_k = \\frac{2E}{m H^2a^2(t)r^2}$ \n",
    "\n",
    "$Ω_m = \\frac{8 \\pi G \\rho}{3H^2}$\n",
    "\n",
    "$Ω_\\Lambda = \\frac{\\Lambda}{3H^2}$\n",
    "\n",
    "which satisfy the condition\n",
    "\n",
    "$Ω_k + Ω_m + Ω_\\Lambda = 1$.\n",
    "\n",
    "For a flat Universe, $E = 0$, allowing us to simplify the above equations \n",
    "\n",
    "$Ω_k = 0$ \n",
    "\n",
    "$Ω_m + Ω_\\Lambda = 1$.\n",
    "\n",
    "In order to get $Ω_k$ and $Ω_m$ as a function of redshift z, we must relate the Hubble parameter $H$ to the redshift. Hogg (1999) relates these two parameters in the following way:\n",
    "\n",
    "$H(z) = H_0 E(z)$\n",
    "\n",
    "$E(z)=\\sqrt{Ω_{m,0}(1+z)^3+Ω_{k,0}(1+z)^2+Ω_{\\Lambda,0}}$\n",
    "\n",
    "where a $0$ in the subscript indicates the value of the parameter at $z=0$. Recalling that for a flat universe $Ω_k=0$ for all redshifts, the relations above simplify to \n",
    "\n",
    "$H(z) = H_0 \\sqrt{Ω_{m,0}(1+z)^3+Ω_{\\Lambda,0}}$\n",
    "\n",
    "With $Ω_{m,0} = 0.3$, $\\Omega_{\\Lambda, 0} = 0.7$ to satisfy the relation $Ω_{m,0} + Ω_{\\Lambda,0} = 1$.\n",
    "\n",
    "We can now use the equation above for $E(z)$, because:\n",
    "\n",
    "$\\Omega_\\Lambda = \\frac{\\Omega_{\\Lambda 0}}{E^2(z)}$\n",
    "\n",
    "Using the relation $Ω_m + Ω_\\Lambda = 1$ gives us the solution for $Ω_m$ as well.\n"
   ]
  },
  {
   "cell_type": "code",
   "execution_count": 4,
   "metadata": {},
   "outputs": [
    {
     "data": {
      "image/png": "[encoded data removed]",
      "text/plain": [
       "<Figure size 432x288 with 1 Axes>"
      ]
     },
     "metadata": {
      "needs_background": "light"
     },
     "output_type": "display_data"
    }
   ],
   "source": [
    "z = np.linspace(0,5,num=100)\n",
    "\n",
    "omega_lam0 = 0.7\n",
    "omega_m0 = 1. - omega_lam0\n",
    "\n",
    "E_z = (omega_m0 * (1 + z)**3 + omega_lam0)**(1/2)\n",
    "\n",
    "omega_lam = omega_lam0 / (E_z**2)\n",
    "omega_m = 1. - omega_lam\n",
    "\n",
    "plt.plot(z, omega_lam, label=\"$\\Omega_{\\Lambda}$\")\n",
    "plt.plot(z, omega_m, label=\"$\\Omega_{m}$\")\n",
    "plt.legend()\n",
    "plt.xlabel('z')\n",
    "plt.show()"
   ]
  },
  {
   "cell_type": "code",
   "execution_count": null,
   "metadata": {},
   "outputs": [],
   "source": []
  }
 ],
 "metadata": {
  "kernelspec": {
   "display_name": "Python 3",
   "language": "python",
   "name": "python3"
  },
  "language_info": {
   "codemirror_mode": {
    "name": "ipython",
    "version": 3
   },
   "file_extension": ".py",
   "mimetype": "text/x-python",
   "name": "python",
   "nbconvert_exporter": "python",
   "pygments_lexer": "ipython3",
   "version": "3.8.3"
  }
 },
 "nbformat": 4,
 "nbformat_minor": 4
}
