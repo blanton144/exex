{
 "cells": [
  {
   "cell_type": "code",
   "execution_count": 1,
   "metadata": {},
   "outputs": [
    {
     "name": "stdout",
     "output_type": "stream",
     "text": [
      "Created TAP+ (v1.0.1) - Connection:\n",
      "\tHost: gea.esac.esa.int\n",
      "\tUse HTTPS: False\n",
      "\tPort: 80\n",
      "\tSSL Port: 443\n"
     ]
    }
   ],
   "source": [
    "import numpy as np\n",
    "import matplotlib.pyplot as plt\n",
    "import scipy.optimize as opt\n",
    "import astropy.units as u\n",
    "from astropy.coordinates import SkyCoord\n",
    "from astroquery.gaia import Gaia"
   ]
  },
  {
   "cell_type": "markdown",
   "metadata": {},
   "source": [
    "# Distance Ladder Numerical and Data Exercises"
   ]
  },
  {
   "cell_type": "markdown",
   "metadata": {},
   "source": [
    "## 2. Distances using RR Lyrae standard candles\n",
    "\n",
    "*Author: Dave Mykytyn*"
   ]
  },
  {
   "cell_type": "markdown",
   "metadata": {},
   "source": [
    "The [Clementini et al. 2018](https://ui.adsabs.harvard.edu/#abs/2018arXiv180502079C/abstract) RR Lyrae results are available from the Gaia data set, which we can access through the astroquery Python package."
   ]
  },
  {
   "cell_type": "code",
   "execution_count": 2,
   "metadata": {},
   "outputs": [
    {
     "name": "stdout",
     "output_type": "stream",
     "text": [
      "Retrieving tables...\n",
      "Parsing tables...\n",
      "Done.\n"
     ]
    }
   ],
   "source": [
    "tables = Gaia.load_tables()"
   ]
  },
  {
   "cell_type": "markdown",
   "metadata": {},
   "source": [
    "First, let's construst our query. We use the prebuilt rr_lyrae table in Gaia DR2, and get all of the parameters of interest. We will retrieve stars within a small radius around both M62 and Sculptor, so we build those parameters into the query string."
   ]
  },
  {
   "cell_type": "code",
   "execution_count": 3,
   "metadata": {},
   "outputs": [],
   "source": [
    "querystart = r\"SELECT \"\n",
    "\n",
    "rr_params = [\"source_id\", \"pf\", \"pf_error\", \"int_average_g\", \n",
    "             \"int_average_g_error\", \"int_average_bp\", \"int_average_bp_error\",\n",
    "             \"int_average_rp\", \"int_average_rp_error\", \"metallicity\", \"metallicity_error\",\n",
    "             \"g_absorption\", \"best_classification\", \"peak_to_peak_g\"]\n",
    "gs_params = [\"ra\", \"ra_error\", \"dec\", \"dec_error\", \"parallax\", \"parallax_error\"]\n",
    "rs_prefix = ', '.join([\"rr.{}\".format(rr_param) for rr_param in rr_params])\n",
    "gs_prefix = ', '.join([\"gs.{}\".format(gs_param) for gs_param in gs_params])\n",
    "querymid = r\" FROM gaiadr2.vari_rrlyrae AS rr JOIN gaiadr2.gaia_source AS gs \"\n",
    "queryobjloc = r\"ON gs.source_id=rr.source_id WHERE 1=INTERSECTS (POINT ('ICRS', gs.RA, gs.DEC), \"\n",
    "queryend = \"CIRCLE('ICRS',{ra}, {dec}, {radius}))\""
   ]
  },
  {
   "cell_type": "markdown",
   "metadata": {},
   "source": [
    "The complete query will then have the following form."
   ]
  },
  {
   "cell_type": "code",
   "execution_count": 4,
   "metadata": {},
   "outputs": [
    {
     "name": "stdout",
     "output_type": "stream",
     "text": [
      "SELECT rr.source_id, rr.pf, rr.pf_error, rr.int_average_g, rr.int_average_g_error, rr.int_average_bp, rr.int_average_bp_error, rr.int_average_rp, rr.int_average_rp_error, rr.metallicity, rr.metallicity_error, rr.g_absorption, rr.best_classification, rr.peak_to_peak_g, gs.ra, gs.ra_error, gs.dec, gs.dec_error, gs.parallax, gs.parallax_error FROM gaiadr2.vari_rrlyrae AS rr JOIN gaiadr2.gaia_source AS gs ON gs.source_id=rr.source_id WHERE 1=INTERSECTS (POINT ('ICRS', gs.RA, gs.DEC), CIRCLE('ICRS',{ra}, {dec}, {radius}))\n"
     ]
    }
   ],
   "source": [
    "completequery = querystart + rs_prefix +', ' + gs_prefix + \\\n",
    "    querymid + queryobjloc + queryend\n",
    "\n",
    "print(completequery)\n"
   ]
  },
  {
   "cell_type": "markdown",
   "metadata": {},
   "source": [
    "astropy's SkyCoord can resolve names to RA and Dec for convenience. This uses the CDS name resolver service."
   ]
  },
  {
   "cell_type": "code",
   "execution_count": null,
   "metadata": {},
   "outputs": [
    {
     "name": "stdout",
     "output_type": "stream",
     "text": [
      "<SkyCoord (ICRS): (ra, dec) in deg\n",
      "    (255.3025, -30.112361)>\n",
      "<SkyCoord (ICRS): (ra, dec) in deg\n",
      "    (15.03917, -33.70889)>\n"
     ]
    }
   ],
   "source": [
    "m62_coords = SkyCoord.from_name('m62')\n",
    "sdg_coords = SkyCoord.from_name('Sculptor Dwarf Galaxy')\n",
    "print(m62_coords)\n",
    "print(sdg_coords)"
   ]
  },
  {
   "cell_type": "markdown",
   "metadata": {},
   "source": [
    "Then we can retrieve from the Gaia databases stars within 15 arcminutes of each object."
   ]
  },
  {
   "cell_type": "code",
   "execution_count": null,
   "metadata": {},
   "outputs": [
    {
     "name": "stderr",
     "output_type": "stream",
     "text": [
      "WARNING: W35: None:5:0: W35: 'value' attribute required for INFO elements [astropy.io.votable.tree]\n",
      "WARNING: W35: None:6:0: W35: 'value' attribute required for INFO elements [astropy.io.votable.tree]\n",
      "WARNING: W35: None:7:0: W35: 'value' attribute required for INFO elements [astropy.io.votable.tree]\n",
      "WARNING: W35: None:8:0: W35: 'value' attribute required for INFO elements [astropy.io.votable.tree]\n",
      "WARNING: W35: None:10:0: W35: 'value' attribute required for INFO elements [astropy.io.votable.tree]\n",
      "WARNING: W27: None:11:0: W27: COOSYS deprecated in VOTable 1.2 [astropy.io.votable.tree]\n",
      "WARNING: W50: None:41:0: W50: Invalid unit string ''dex'' [astropy.io.votable.tree]\n",
      "WARNING: W50: None:44:0: W50: Invalid unit string ''dex'' [astropy.io.votable.tree]\n"
     ]
    }
   ],
   "source": [
    "querysdg = completequery.format(ra=sdg_coords.ra.deg, dec=sdg_coords.dec.deg, radius=0.25)\n",
    "jobsdg = Gaia.launch_job(query=querysdg)\n",
    "querym62 = completequery.format(ra=m62_coords.ra.deg, dec=m62_coords.dec.deg, radius=0.25)\n",
    "jobm62 = Gaia.launch_job(query=querym62)"
   ]
  },
  {
   "cell_type": "markdown",
   "metadata": {},
   "source": [
    "Here, we do a few basic cuts, to remove objects in which the period or metallicity have not been measured, and a few (presumed) outliers in M62, perhaps due to RR Lyrae along the line of sight or other errors. "
   ]
  },
  {
   "cell_type": "code",
   "execution_count": null,
   "metadata": {},
   "outputs": [],
   "source": [
    "sdg = jobsdg.get_results() # this returns an astropy Table\n",
    "sdg = sdg[~sdg['pf'].mask]\n",
    "sdg = sdg[~sdg['metallicity'].mask]\n",
    "\n",
    "m62 = jobm62.get_results() # this returns an astropy Table\n",
    "m62 = m62[~m62['pf'].mask]\n",
    "m62 = m62[~m62['metallicity'].mask]\n",
    "m62 = m62[15.<m62['int_average_g']]\n",
    "m62 = m62[m62['int_average_g'] < 17.]"
   ]
  },
  {
   "cell_type": "markdown",
   "metadata": {},
   "source": [
    "Just as a sanity check, let us look at the RA and Dec distribution in each case"
   ]
  },
  {
   "cell_type": "code",
   "execution_count": null,
   "metadata": {},
   "outputs": [],
   "source": [
    "plt.figure(figsize=(20,5))\n",
    "plt.subplot(1, 2, 1)\n",
    "plt.scatter(sdg['ra'], sdg['dec'], s=3)\n",
    "plt.gca().invert_xaxis()\n",
    "plt.xlabel(\"RA\")\n",
    "plt.ylabel(\"Dec\")\n",
    "plt.title('Sculptor Dwarf Galaxy')\n",
    "plt.subplot(1, 2, 2)\n",
    "plt.scatter(m62['ra'], m62['dec'], s=3)\n",
    "plt.gca().invert_xaxis()\n",
    "plt.xlabel(\"RA\")\n",
    "plt.title('M62')\n",
    "plt.subplots_adjust(wspace=.15)\n",
    "plt.show()"
   ]
  },
  {
   "cell_type": "markdown",
   "metadata": {},
   "source": [
    "Now plot the period-luminosity relation. Already we can see potential problems, since the Sculptor Dwarf Galaxy RR Lyrae are clearly near Gaia's detection limit so may be affected by bias, perhaps as a function of luminosity. Although the RR Lyrae period-luminosity relation is supposed to be weak in the G band, for Sculptor it appears strong. Meanwhile, for M62 there appears to be more scatter than the typical 0.1 mag usually quoted for RR Lyrae. "
   ]
  },
  {
   "cell_type": "code",
   "execution_count": null,
   "metadata": {},
   "outputs": [],
   "source": [
    "plt.figure(figsize=(20, 5))\n",
    "plt.subplot(1, 2, 1)\n",
    "plt.scatter(np.log10(sdg['pf']), sdg['int_average_g'], s=3)\n",
    "plt.gca().invert_yaxis()\n",
    "plt.xlabel('Log Period (days)')\n",
    "plt.ylabel('Apparent magnitude (mag)')\n",
    "plt.xlim([-0.4, -0.1])\n",
    "plt.ylim([20.6, 19.6])\n",
    "plt.title('Sculptor Dwarf Galaxy')\n",
    "plt.subplot(1, 2, 2)\n",
    "plt.scatter(np.log10(m62['pf']), m62['int_average_g'], s=3)\n",
    "plt.gca().invert_yaxis()\n",
    "plt.xlabel('Log Period (days)')\n",
    "plt.ylabel('Apparent magnitude (mag)')\n",
    "plt.xlim([-0.4, -0.1])\n",
    "plt.ylim([16.3, 15.3])\n",
    "plt.title('M62')\n",
    "plt.show()"
   ]
  },
  {
   "cell_type": "code",
   "execution_count": null,
   "metadata": {},
   "outputs": [],
   "source": [
    "plt.figure(figsize=(20, 5))\n",
    "plt.subplot(1, 2, 1)\n",
    "plt.scatter(sdg['metallicity'], sdg['int_average_g'], s=3)\n",
    "plt.gca().invert_yaxis()\n",
    "plt.xlabel('Metallicity (dex))')\n",
    "plt.ylabel('Apparent magnitude (mag)')\n",
    "plt.xlim([-3.0, 0.3])\n",
    "plt.ylim([20.6, 19.6])\n",
    "plt.title('Sculptor Dwarf Galaxy')\n",
    "plt.subplot(1, 2, 2)\n",
    "plt.scatter(m62['metallicity'], m62['int_average_g'], s=3)\n",
    "plt.gca().invert_yaxis()\n",
    "plt.xlabel('Metallicity (dex)')\n",
    "plt.ylabel('Apparent magnitude (mag)')\n",
    "plt.xlim([-3.0, 0.3])\n",
    "plt.ylim([16.3, 15.3])\n",
    "plt.title('M62')\n",
    "plt.show()"
   ]
  },
  {
   "cell_type": "markdown",
   "metadata": {},
   "source": [
    "Finally, we are just going to eyeball a good fit to each distribution using the relation between $M_G$ and metallicity found in [Muraveva et al. (2018)](https://ui.adsabs.harvard.edu/#abs/2018MNRAS.481.1195M/abstract), Table 4:\n",
    "\n",
    "$$\n",
    "M_G = 0.32 {\\rm [Fe/ H]} + 1.11\n",
    "$$\n",
    "\n",
    "The plots below make a guess at the distance modulus for each object.\n",
    "It appears as if Gaia is only seeing the brightest of the RR Lyrae in Sculptor, and this means we don't have a very good handle on its distance modulus. \n",
    "\n",
    "Note that in the case of M62 we have to account for the fact that it is in a dusty region of the Milky Way, with an estimated $A_V \\sim 1.4$, which we apply to the $G$ band. There is the possibility that M62 is not behind all of this dust, which complicates matters, and we ignore this here."
   ]
  },
  {
   "cell_type": "code",
   "execution_count": null,
   "metadata": {},
   "outputs": [],
   "source": [
    "plt.figure(figsize=(20, 5))\n",
    "plt.subplot(1, 2, 1)\n",
    "plt.scatter(sdg['metallicity'], sdg['int_average_g'], s=3)\n",
    "plt.gca().invert_yaxis()\n",
    "plt.xlabel('Metallicity (dex))')\n",
    "plt.ylabel('Apparent magnitude (mag)')\n",
    "plt.xlim([-3.0, 0.3])\n",
    "plt.ylim([20.6, 19.6])\n",
    "\n",
    "sdg_dm = 19.5\n",
    "xline = np.array([-3., 0.])\n",
    "yline = xline * 0.32 + 1.11 + sdg_dm\n",
    "plt.plot(xline, yline)\n",
    "plt.title('Sculptor Dwarf Galaxy (DM = {dm})'.format(dm=sdg_dm))\n",
    "\n",
    "plt.subplot(1, 2, 2)\n",
    "plt.scatter(m62['metallicity'], m62['int_average_g'], s=3)\n",
    "plt.gca().invert_yaxis()\n",
    "plt.xlabel('Metallicity (dex)')\n",
    "plt.ylabel('Apparent magnitude (mag)')\n",
    "plt.xlim([-3.0, 0.3])\n",
    "plt.ylim([16.3, 15.3])\n",
    "\n",
    "m62_dm = 13.5\n",
    "xline = np.array([-3., 0.])\n",
    "yline = xline * 0.32 + 1.11 + m62_dm + 1.4\n",
    "plt.plot(xline, yline)\n",
    "plt.title('M62 (DM = {dm})'.format(dm=m62_dm))\n",
    "\n",
    "plt.show()"
   ]
  },
  {
   "cell_type": "markdown",
   "metadata": {},
   "source": [
    "Nevertheless, if we take these distance moduli seriously then the relative distances are:"
   ]
  },
  {
   "cell_type": "code",
   "execution_count": null,
   "metadata": {},
   "outputs": [],
   "source": [
    "print(10.**(0.2 * (sdg_dm - m62_dm)))"
   ]
  },
  {
   "cell_type": "markdown",
   "metadata": {},
   "source": [
    "The individual distances in pc can also be inferred:"
   ]
  },
  {
   "cell_type": "code",
   "execution_count": null,
   "metadata": {},
   "outputs": [],
   "source": [
    "print(10. * 10.**(0.2 * sdg_dm))"
   ]
  },
  {
   "cell_type": "code",
   "execution_count": null,
   "metadata": {},
   "outputs": [],
   "source": [
    "print(10. * 10.**(0.2 * m62_dm))"
   ]
  },
  {
   "cell_type": "markdown",
   "metadata": {},
   "source": [
    "These can be compared to the literature distances of 90 kpc for Sculptor and 7 kpc for M62. Our RR Lyrae based distances are in the ballpark but not very precisely so, perhaps due to the flux limit in the case of Sculptor and the dust in the case of M62. "
   ]
  },
  {
   "cell_type": "code",
   "execution_count": null,
   "metadata": {},
   "outputs": [],
   "source": []
  }
 ],
 "metadata": {
  "kernelspec": {
   "display_name": "Python 3",
   "language": "python",
   "name": "python3"
  },
  "language_info": {
   "codemirror_mode": {
    "name": "ipython",
    "version": 3
   },
   "file_extension": ".py",
   "mimetype": "text/x-python",
   "name": "python",
   "nbconvert_exporter": "python",
   "pygments_lexer": "ipython3",
   "version": "3.6.4"
  }
 },
 "nbformat": 4,
 "nbformat_minor": 1
}
