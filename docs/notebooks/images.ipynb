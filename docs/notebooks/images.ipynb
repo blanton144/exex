{
 "cells": [
  {
   "cell_type": "code",
   "execution_count": 1,
   "metadata": {},
   "outputs": [],
   "source": [
    "import numpy as np\n",
    "import matplotlib.pyplot as plt"
   ]
  },
  {
   "cell_type": "markdown",
   "metadata": {},
   "source": [
    "## 3. Image Centroid Accuracy\n",
    "\n",
    "*Author: Jiarong Zhu*\n",
    "\n",
    "This problem tests the measurement of image centroids.\n",
    "\n",
    "(a) Write a piece of code to generate a fake, critically-sampled image of a double Gaussian, with a center that isn’t necessarily at the center of a pixel. For the second Gaussian, use A2 = 0.1A1 and σ2 = 2.47σ1, where A indicates the value at the center of the Gaussian. This choice is an approximate description of the atmospheric PSF (Jim Gunn, private communication).\n",
    "\n",
    "(b) Write a routine to find the light-weighted centroid of the image. Start by using the maximum pixel value, and use your knowledge of the PSF FWHM to calculate the center based on the light within 3 FWHM, and iterate to convergence.\n",
    "\n",
    "(c) Write a routine to find the mode of the image. Start by using the maximum pixel value, but then use the 3×3 grid of pixels in the center to perform a quadratic interpolation to find the peak.\n",
    "\n",
    "(d) Now add noise to the images, and use a Monte Carlo test to evaluate how the precision of each estimate depends on the total S/N within 3 FWHM."
   ]
  },
  {
   "cell_type": "markdown",
   "metadata": {},
   "source": [
    "### 3.a. Double Gaussian Image\n",
    "\n",
    "Generate double gaussian image. Note that to be at least critically sampled,\n",
    "the FWHM of PSF should be at least 2 pixels. Here I set up (x,y) exactly\n",
    "equal to index (i,j) to make life easier. The real position of the peak\n",
    "is set up to be not at the center of a pixel.\n"
   ]
  },
  {
   "cell_type": "code",
   "execution_count": 1,
   "metadata": {},
   "outputs": [
    {
     "data": {
      "image/png": "[encoded data removed]",
      "text/plain": [
       "<Figure size 432x288 with 2 Axes>"
      ]
     },
     "metadata": {
      "needs_background": "light"
     },
     "output_type": "display_data"
    }
   ],
   "source": [
    "A1, A2 = 10, 1\n",
    "sig1 = 1.\n",
    "sig2 = 2.47 * sig1\n",
    "xc, yc = 13.3, 14.1    #real center\n",
    "a = 2 * np.sqrt(2 * np.log(2))  # a ~ 2.4\n",
    "FWHM1, FWHM2 = a * sig1, a * sig2\n",
    "\n",
    "dx, dy = 1, 1   #dx,dy<=sqrt(2*np.log(2))*sig1~1.2\n",
    "x = np.arange(0, 30., dx)\n",
    "y = np.arange(0.,30., dy)\n",
    "xx, yy = np.meshgrid(x, y)  #xx,yy=i,j\n",
    "Nx = len(x)\n",
    "Ny = len(y)\n",
    "\n",
    "z = (A1 * np.exp(- ((xx - xc)**2 + (yy - yc)**2) / (2 * sig1**2)) +\n",
    "     A2 * np.exp(- ((xx - xc)**2 + (yy - yc)**2) / (2 * sig2**2)))\n",
    "z = z.transpose()\n",
    "#refer to value at (xx,yy): z[i,j]\n",
    "\n",
    "plt.figure()\n",
    "plt.imshow(z, cmap='gray', vmin=z.min(), vmax=z.max(),\n",
    "           extent=[x.min(), x.max(), y.min(), y.max()],\n",
    "           interpolation='nearest', origin='lower')\n",
    "plt.title('image (nearest)')\n",
    "plt.colorbar()\n",
    "plt.show()"
   ]
  },
  {
   "cell_type": "markdown",
   "metadata": {},
   "source": [
    "### 3.b. Light-weighted Centroid\n",
    "\n",
    "The ight-weighted centroid can be calculated through this equation:\n",
    "\n",
    "$x_{i,0} = \\frac{\\sum x_i* flux}{\\sum flux}$\n",
    "\n",
    "The FWHM of PSF should be of the same order as the maximum in {FWHM1, FWHM2}, so I use the latter to give 3FWHM range."
   ]
  },
  {
   "cell_type": "code",
   "execution_count": 2,
   "metadata": {},
   "outputs": [
    {
     "name": "stdout",
     "output_type": "stream",
     "text": [
      "The light-weighted centroid: (x0, y0) =  (13.290779598277219, 14.096925815213309)\n"
     ]
    }
   ],
   "source": [
    "def light_weighted_centroid(z, noise):\n",
    "    data = z + noise\n",
    "    index = np.where(data == np.amax(data))  # find index of pixel with maximum value\n",
    "    i0, j0 = index[0].item(), index[1].item()\n",
    "\n",
    "    R = int(3 * min(FWHM2, FWHM1) /dx)\n",
    "    \n",
    "    l0 = 0  # 0th order moment\n",
    "    l1 = np.array([0, 0])  # 1st order moment\n",
    "\n",
    "    for i in range(len(x)):\n",
    "        for j in range(len(y)):\n",
    "            if ((i - i0)**2 + (j - j0)**2 <= R**2):\n",
    "                l0 = l0 + data[i, j]\n",
    "                l1 = l1 + np.array([i, j]) * data[i, j]\n",
    "            \n",
    "    (x0, y0) = l1 / l0  #light-weighted centroid\n",
    "    \n",
    "    return x0, y0\n",
    "           \n",
    "x0,y0 = light_weighted_centroid(z, np.zeros((Nx, Ny)))\n",
    "print('The light-weighted centroid: (x0, y0) = ', (x0, y0))"
   ]
  },
  {
   "cell_type": "markdown",
   "metadata": {},
   "source": [
    "# 3.c. Fit Quadratic Function\n",
    "\n",
    "Use values of 3*3 grid of pixels while the center pixel has maximum pixel value, perform quadratic fitting, i.e. fitting to function $f = c_0 + c_1 x+c_2 y +c_3 x^2 + c_4 y^2 $. With all coefficients fitted, we can estimate the centroid to be at $x_0 = - \\frac{c_3}{2 c_1}, y_0 = - \\frac{c_4}{2 c_2}$. Since the number of data points is 9, which is greater than the number of coefficients needed to fit, we can apply svd to make use of all data."
   ]
  },
  {
   "cell_type": "code",
   "execution_count": 3,
   "metadata": {},
   "outputs": [
    {
     "name": "stdout",
     "output_type": "stream",
     "text": [
      "The centroid estimated by quadratic fitting: (x0, y0)= (13.294925852265052, 14.097477362529526)\n"
     ]
    }
   ],
   "source": [
    "def quad_fitting_centroid(z, noise):\n",
    "    data = z + noise\n",
    "    index = np.where(data == np.amax(data)) # find index of pixel with maximum value\n",
    "    i0, j0 = index[0].item(),index[1].item()\n",
    "    X0, X1, X2, X3, X4 = np.ones(9), [], [], [], []\n",
    "    Y = []\n",
    "\n",
    "    for i in range(i0 - 1, i0 + 2):\n",
    "        for j in range(j0 - 1, j0 + 2):\n",
    "            X1.append(i - i0)\n",
    "            X2.append(j - j0)\n",
    "            X3.append((i - i0)**2)\n",
    "            X4.append((j - j0)**2)\n",
    "            Y.append(np.log(data[i, j]))\n",
    "        \n",
    "    B = np.array([X0, X1, X2, X3, X4])  \n",
    "    A = B.transpose()\n",
    "    (u, w, v) = np.linalg.svd(A, full_matrices=False)\n",
    "    inv_w = 1. / w \n",
    "    c = v.transpose().dot(np.diag(inv_w)).dot(u.transpose()).dot(Y)\n",
    "\n",
    "    x0, y0 = i0 - c[1] / (2 * c[3]), j0 - c[2] / (2. * c[4])\n",
    "\n",
    "    return x0, y0\n",
    "\n",
    "x0, y0 = quad_fitting_centroid(z, np.zeros((Nx, Ny)))\n",
    "print('The centroid estimated by quadratic fitting: (x0, y0)=', (x0, y0))"
   ]
  },
  {
   "cell_type": "markdown",
   "metadata": {},
   "source": [
    "### 3.d. Effect of Noise\n",
    "\n",
    "Add noise to the image and estimate the position of centroid by two estimators above. Use Monte Carlo to calculate Root Mean Square Error (RMSE) of the sample mean of two estimators."
   ]
  },
  {
   "cell_type": "code",
   "execution_count": 10,
   "metadata": {},
   "outputs": [
    {
     "name": "stdout",
     "output_type": "stream",
     "text": [
      "5.81640551123\n",
      "2.35482004503\n",
      "3\n",
      "1\n",
      "0.43677708119 0.427844192642 15.2502332554\n",
      "101.164938064\n"
     ]
    }
   ],
   "source": [
    "def RMSE_by_MC(estimator, noise_level, signal, xc, yc): #noise=noise_level*np.random.rand(Nx,Ny)\n",
    "    Nx = Ny = len(signal)\n",
    "    nk = 1000\n",
    "    \n",
    "    mse1 = []\n",
    "    mse2 = []    \n",
    "    \n",
    "    xe = np.zeros(nk)\n",
    "    ye = np.zeros(nk)\n",
    "    for k in range(nk):\n",
    "\n",
    "        noise = noise_level * np.random.randn(Nx, Ny)\n",
    "        txe, tye = estimator(signal, noise)\n",
    "        xe[k] = txe\n",
    "        ye[k] = tye\n",
    "        \n",
    "    RMSE1 = np.sqrt(((xe - xc)**2).sum() / np.float32(nk))\n",
    "    RMSE2 = np.sqrt(((ye - yc)**2).sum() / np.float32(nk))\n",
    "    \n",
    "    return RMSE1, RMSE2\n",
    "\n",
    "R = int(min(FWHM2, FWHM1) / dx) + 1\n",
    "print(FWHM2)\n",
    "print(FWHM1)\n",
    "print(R)\n",
    "print(dx)\n",
    "\n",
    "def SNR(z, noise_level, R):\n",
    "    index = np.where(z == np.amax(z)) # find index of pixel with maximum value\n",
    "    i0, j0 = index[0].item(),index[1].item()\n",
    "    \n",
    "    Nx = Ny = len(z)\n",
    "    s = 0\n",
    "    n2 = 0\n",
    "    \n",
    "    for i in range(Nx):\n",
    "        for j in range(Ny):\n",
    "            if ((i - i0)**2 + (j - j0)**2 <= R**2):\n",
    "                s = s + z[i, j]\n",
    "                n2 = n2 + noise_level**2 \n",
    "                \n",
    "    n = np.sqrt(n2)\n",
    "    snr = s / n    \n",
    "    return snr\n",
    "\n",
    "noise_level = 1 #an example\n",
    "snr = SNR(z, noise_level, R)\n",
    "r1, r2 = RMSE_by_MC(light_weighted_centroid, noise_level, z, xc, yc)\n",
    "print(r1, r2, snr) \n",
    "print(z.sum())\n"
   ]
  },
  {
   "cell_type": "markdown",
   "metadata": {},
   "source": [
    "Below I generate a series of noises and calculate RMSEs of xc and yc for both estimators. Then plot RMSEs as a function of S/N within 3FWHM."
   ]
  },
  {
   "cell_type": "code",
   "execution_count": 14,
   "metadata": {},
   "outputs": [
    {
     "name": "stdout",
     "output_type": "stream",
     "text": [
      "0.05\n",
      "0.1\n",
      "0.5\n",
      "1.0\n"
     ]
    },
    {
     "name": "stderr",
     "output_type": "stream",
     "text": [
      "<ipython-input-3-759fce33b805>:14: RuntimeWarning: invalid value encountered in log\n",
      "  Y.append(np.log(data[i, j]))\n"
     ]
    },
    {
     "name": "stdout",
     "output_type": "stream",
     "text": [
      "2.0\n"
     ]
    }
   ],
   "source": [
    "noise_level_list = [0.05, 0.1, 0.5, 1., 2.]\n",
    "\n",
    "snr = []\n",
    "rx1,ry1 = [], []\n",
    "rx2,ry2 = [], []\n",
    "\n",
    "for noise_level in noise_level_list:\n",
    "    print(noise_level)\n",
    "    snr.append(SNR(z, noise_level, R))\n",
    "    rrx1, rry1 = RMSE_by_MC(light_weighted_centroid, noise_level, z, xc, yc)\n",
    "    rrx2, rry2 = RMSE_by_MC(quad_fitting_centroid, noise_level, z, xc, yc)\n",
    "    rx1.append(rrx1)\n",
    "    ry1.append(rry1)\n",
    "    rx2.append(rrx2)\n",
    "    ry2.append(rry2)"
   ]
  },
  {
   "cell_type": "code",
   "execution_count": 16,
   "metadata": {},
   "outputs": [
    {
     "data": {
      "image/png": "[encoded data removed]",
      "text/plain": [
       "<Figure size 432x288 with 1 Axes>"
      ]
     },
     "metadata": {
      "needs_background": "light"
     },
     "output_type": "display_data"
    }
   ],
   "source": [
    "plt.figure()\n",
    "plt.plot(np.log10(snr), np.log10(rx1), color='red', linestyle='dotted', label='xc, light-weighted')\n",
    "plt.plot(np.log10(snr), np.log10(ry1), color='black', linestyle='dotted', label='yc, light-weighted')\n",
    "plt.plot(np.log10(snr), np.log10(rx2), color='red', label='xc, quadratic fitting')\n",
    "plt.plot(np.log10(snr), np.log10(ry2), color='black', label='yc, quadratic fitting')\n",
    "plt.scatter(np.log10(snr), np.log10(rx1), color='red', s=2)\n",
    "plt.scatter(np.log10(snr), np.log10(ry1), color='black', s=2)\n",
    "plt.scatter(np.log10(snr), np.log10(rx2), color='red', s=2)\n",
    "plt.scatter(np.log10(snr), np.log10(ry2), color='black', s=2)\n",
    "plt.plot(np.log10(snr), np.log10(0.685 * FWHM1 / np.array(snr)), color='yellow')\n",
    "plt.xlabel('$\\log_{10}$ S/N within 2 FWHM')\n",
    "plt.ylabel('$\\log_{10}$ error')\n",
    "plt.legend()\n",
    "plt.show()"
   ]
  },
  {
   "cell_type": "markdown",
   "metadata": {},
   "source": [
    "The yellow line indicates $0.685~{\\rm FWHM}~/~(S/N)$, which should approximate the Cramer-Rao bound (the \"best possible\" behavior), as discussed by Vakili & Hogg (2016; https://ui.adsabs.harvard.edu/abs/2016arXiv161005873V/abstract). So the quadratic fit centroid does pretty well."
   ]
  },
  {
   "cell_type": "code",
   "execution_count": null,
   "metadata": {},
   "outputs": [],
   "source": []
  }
 ],
 "metadata": {
  "kernelspec": {
   "display_name": "Python 3 (ipykernel)",
   "language": "python",
   "name": "python3"
  },
  "language_info": {
   "codemirror_mode": {
    "name": "ipython",
    "version": 3
   },
   "file_extension": ".py",
   "mimetype": "text/x-python",
   "name": "python",
   "nbconvert_exporter": "python",
   "pygments_lexer": "ipython3",
   "version": "3.11.5"
  }
 },
 "nbformat": 4,
 "nbformat_minor": 4
}
