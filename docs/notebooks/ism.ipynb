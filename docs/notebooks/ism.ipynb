{
 "cells": [
  {
   "cell_type": "code",
   "execution_count": 1,
   "metadata": {
    "collapsed": false
   },
   "outputs": [
    {
     "name": "stdout",
     "output_type": "stream",
     "text": [
      " using cli\n",
      " using CLI for selections\n"
     ]
    }
   ],
   "source": [
    "%matplotlib inline\n",
    "import numpy as np\n",
    "import matplotlib\n",
    "import chianti.core as ch"
   ]
  },
  {
   "cell_type": "code",
   "execution_count": 14,
   "metadata": {
    "collapsed": false
   },
   "outputs": [
    {
     "name": "stdout",
     "output_type": "stream",
     "text": [
      " elapsed seconds =   1.22e+03\n"
     ]
    },
    {
     "data": {
      "image/png": "[encoded data removed]",
      "text/plain": [
       "<matplotlib.figure.Figure at 0x1814e23400>"
      ]
     },
     "metadata": {},
     "output_type": "display_data"
    }
   ],
   "source": [
    "temp = 10.**(4. + 0.05 * np.arange(81))\n",
    "rl = ch.radLoss(temp, 1.e+4, minAbund=2.e-5, keepIons=1)\n",
    "rl.radLossPlot()"
   ]
  },
  {
   "cell_type": "code",
   "execution_count": 17,
   "metadata": {
    "collapsed": false
   },
   "outputs": [
    {
     "name": "stdout",
     "output_type": "stream",
     "text": [
      "['Defaults', 'Temperature', 'EDensity', 'AbundanceName', 'AbundAll', 'IonsCalculated', 'IonInstances', 'Finished', 'WvlRange', 'Todo', 'FreeFreeLoss', 'FreeBoundLoss', 'BoundBoundLoss', 'TwoPhotonLoss', 'RadLoss', '__module__', '__doc__', '__init__', 'radLossPlot', 'convolve', 'ionGate', 'spectrumPlot', 'lineSpectrumPlot', '__dict__', '__weakref__', '__repr__', '__hash__', '__str__', '__getattribute__', '__setattr__', '__delattr__', '__lt__', '__le__', '__eq__', '__ne__', '__gt__', '__ge__', '__new__', '__reduce_ex__', '__reduce__', '__subclasshook__', '__init_subclass__', '__format__', '__sizeof__', '__dir__', '__class__']\n"
     ]
    }
   ],
   "source": [
    "print(rl.__dir__())"
   ]
  },
  {
   "cell_type": "code",
   "execution_count": 21,
   "metadata": {
    "collapsed": false
   },
   "outputs": [
    {
     "data": {
      "text/plain": [
       "{}"
      ]
     },
     "execution_count": 21,
     "metadata": {},
     "output_type": "execute_result"
    }
   ],
   "source": [
    "rl.IonInstances"
   ]
  },
  {
   "cell_type": "code",
   "execution_count": 12,
   "metadata": {
    "collapsed": false
   },
   "outputs": [
    {
     "data": {
      "text/plain": [
       "['c_1',\n",
       " 'c_2',\n",
       " 'c_3',\n",
       " 'c_4',\n",
       " 'c_4d',\n",
       " 'c_5',\n",
       " 'c_5d',\n",
       " 'c_6',\n",
       " 'fe_10',\n",
       " 'fe_10d',\n",
       " 'fe_11',\n",
       " 'fe_11d',\n",
       " 'fe_12',\n",
       " 'fe_12d',\n",
       " 'fe_13',\n",
       " 'fe_13d',\n",
       " 'fe_14',\n",
       " 'fe_14d',\n",
       " 'fe_15',\n",
       " 'fe_15d',\n",
       " 'fe_16',\n",
       " 'fe_16d',\n",
       " 'fe_17',\n",
       " 'fe_17d',\n",
       " 'fe_18',\n",
       " 'fe_18d',\n",
       " 'fe_19',\n",
       " 'fe_19d',\n",
       " 'fe_2',\n",
       " 'fe_20',\n",
       " 'fe_20d',\n",
       " 'fe_21',\n",
       " 'fe_21d',\n",
       " 'fe_22',\n",
       " 'fe_22d',\n",
       " 'fe_23',\n",
       " 'fe_23d',\n",
       " 'fe_24',\n",
       " 'fe_24d',\n",
       " 'fe_25',\n",
       " 'fe_25d',\n",
       " 'fe_26',\n",
       " 'fe_2d',\n",
       " 'fe_3',\n",
       " 'fe_3d',\n",
       " 'fe_4',\n",
       " 'fe_4d',\n",
       " 'fe_5',\n",
       " 'fe_5d',\n",
       " 'fe_6',\n",
       " 'fe_6d',\n",
       " 'fe_7',\n",
       " 'fe_7d',\n",
       " 'fe_8',\n",
       " 'fe_8d',\n",
       " 'fe_9',\n",
       " 'fe_9d',\n",
       " 'h_1',\n",
       " 'he_1',\n",
       " 'he_2',\n",
       " 'mg_10',\n",
       " 'mg_10d',\n",
       " 'mg_11',\n",
       " 'mg_11d',\n",
       " 'mg_12',\n",
       " 'mg_2',\n",
       " 'mg_3',\n",
       " 'mg_4',\n",
       " 'mg_5',\n",
       " 'mg_6',\n",
       " 'mg_7',\n",
       " 'mg_8',\n",
       " 'mg_9',\n",
       " 'n_1',\n",
       " 'n_2',\n",
       " 'n_3',\n",
       " 'n_4',\n",
       " 'n_5',\n",
       " 'n_5d',\n",
       " 'n_6',\n",
       " 'n_6d',\n",
       " 'n_7',\n",
       " 'ne_10',\n",
       " 'ne_2',\n",
       " 'ne_3',\n",
       " 'ne_4',\n",
       " 'ne_5',\n",
       " 'ne_6',\n",
       " 'ne_7',\n",
       " 'ne_8',\n",
       " 'ne_8d',\n",
       " 'ne_9',\n",
       " 'ne_9d',\n",
       " 'o_1',\n",
       " 'o_2',\n",
       " 'o_3',\n",
       " 'o_4',\n",
       " 'o_5',\n",
       " 'o_6',\n",
       " 'o_6d',\n",
       " 'o_7',\n",
       " 'o_7d',\n",
       " 'o_8',\n",
       " 's_1',\n",
       " 's_10',\n",
       " 's_11',\n",
       " 's_12',\n",
       " 's_13',\n",
       " 's_14',\n",
       " 's_14d',\n",
       " 's_15',\n",
       " 's_15d',\n",
       " 's_16',\n",
       " 's_2',\n",
       " 's_3',\n",
       " 's_4',\n",
       " 's_5',\n",
       " 's_6',\n",
       " 's_7',\n",
       " 's_8',\n",
       " 's_9',\n",
       " 'si_10',\n",
       " 'si_11',\n",
       " 'si_12',\n",
       " 'si_12d',\n",
       " 'si_13',\n",
       " 'si_13d',\n",
       " 'si_14',\n",
       " 'si_2',\n",
       " 'si_3',\n",
       " 'si_4',\n",
       " 'si_5',\n",
       " 'si_6',\n",
       " 'si_7',\n",
       " 'si_8',\n",
       " 'si_9']"
      ]
     },
     "execution_count": 12,
     "metadata": {},
     "output_type": "execute_result"
    }
   ],
   "source": [
    "rl.IonsCalculated"
   ]
  },
  {
   "cell_type": "code",
   "execution_count": 13,
   "metadata": {
    "collapsed": false
   },
   "outputs": [
    {
     "name": "stdout",
     "output_type": "stream",
     "text": [
      "Help on class radLoss in module chianti.core.RadLoss:\n",
      "\n",
      "class radLoss(chianti.core._SpecTrails._specTrails)\n",
      " |  Calculate the emission spectrum as a function of temperature and density.\n",
      " |  \n",
      " |  includes elemental abundances or ionization equilibria\n",
      " |  \n",
      " |  temperature and density can be arrays but, unless the size of either is one (1),\n",
      " |  the two must have the same size\n",
      " |  \n",
      " |  the returned spectrum will be convolved with a filter of the specified width on the\n",
      " |  specified wavelength array\n",
      " |  \n",
      " |  the default filter is gaussianR with a resolving power of 1000.  Other filters,\n",
      " |  such as gaussian, box and lorentz, are available in chianti.filters.  When using the box filter,\n",
      " |  the width should equal the wavelength interval to keep the units of the continuum and line\n",
      " |  spectrum the same.\n",
      " |  \n",
      " |  A selection of ions can be make with ionList containing the names of\n",
      " |  the desired lines in Chianti notation, i.e. C VI = c_6\n",
      " |  \n",
      " |  a minimum abundance can be specified so that the calculation can be speeded up by excluding\n",
      " |  elements with a low abundance. With solar photospheric abundances -\n",
      " |  \n",
      " |  setting minAbund = 1.e-4 will include H, He, C, O, Ne\n",
      " |  setting minAbund = 2.e-5 adds  N, Mg, Si, S, Fe\n",
      " |  setting minAbund = 1.e-6 adds  Na, Al, Ar, Ca, Ni\n",
      " |  \n",
      " |  Setting em will multiply the spectrum at each temperature by the value of em.\n",
      " |  \n",
      " |  em [for emission measure], can be a float or an array of the same length as the\n",
      " |  temperature/density.\n",
      " |  \n",
      " |  Method resolution order:\n",
      " |      radLoss\n",
      " |      chianti.core._SpecTrails._specTrails\n",
      " |      builtins.object\n",
      " |  \n",
      " |  Methods defined here:\n",
      " |  \n",
      " |  __init__(self, temperature, eDensity, elementList=0, ionList=0, minAbund=0, doContinuum=1, abundanceName=0, verbose=0, allLines=1, keepIons=0)\n",
      " |      Initialize self.  See help(type(self)) for accurate signature.\n",
      " |  \n",
      " |  radLossPlot(self)\n",
      " |      to plot the radiative losses vs temperature\n",
      " |  \n",
      " |  ----------------------------------------------------------------------\n",
      " |  Methods inherited from chianti.core._SpecTrails._specTrails:\n",
      " |  \n",
      " |  convolve(self, wavelength=0, filter=(<function gaussianR at 0x180af36048>, 1000.0), label=0, verbose=0)\n",
      " |      the first application of spectrum calculates the line intensities within the specified wavelength range and for set of ions specified\n",
      " |      \n",
      " |      wavelength will not be used if applied to 'spectrum' objects\n",
      " |      \n",
      " |      wavelength IS need for 'bunch' objects - in this case, the wavelength should not extend beyond the limits of the\n",
      " |      wvlRange used for the 'bunch' calculation\n",
      " |  \n",
      " |  ionGate(self, elementList=0, ionList=0, minAbund=0, doContinuum=1, doWvlTest=1, verbose=0)\n",
      " |      creates a list of ions for free-free, free-bound, and line intensity calculations\n",
      " |      if doing the radiative losses, accept all wavelength -> doWvlTest=0\n",
      " |  \n",
      " |  lineSpectrumPlot(self, index=0, integrated=0, saveFile=0, linLog='lin')\n",
      " |      to plot the line spectrum as a function of wavelength\n",
      " |  \n",
      " |  spectrumPlot(self, index=-1, integrated=0, saveFile=0, linLog='lin')\n",
      " |      to plot the spectrum as a function of wavelength\n",
      " |  \n",
      " |  ----------------------------------------------------------------------\n",
      " |  Data descriptors inherited from chianti.core._SpecTrails._specTrails:\n",
      " |  \n",
      " |  __dict__\n",
      " |      dictionary for instance variables (if defined)\n",
      " |  \n",
      " |  __weakref__\n",
      " |      list of weak references to the object (if defined)\n",
      "\n"
     ]
    }
   ],
   "source": [
    "help(ch.radLoss)"
   ]
  },
  {
   "cell_type": "code",
   "execution_count": 24,
   "metadata": {
    "collapsed": false
   },
   "outputs": [
    {
     "ename": "AttributeError",
     "evalue": "'ion' object has no attribute 'IoneqOne'",
     "output_type": "error",
     "traceback": [
      "\u001b[0;31m---------------------------------------------------------------------------\u001b[0m",
      "\u001b[0;31mAttributeError\u001b[0m                            Traceback (most recent call last)",
      "\u001b[0;32m<ipython-input-24-05d1f0221cde>\u001b[0m in \u001b[0;36m<module>\u001b[0;34m()\u001b[0m\n\u001b[1;32m      4\u001b[0m \u001b[0mwvl\u001b[0m \u001b[0;34m=\u001b[0m \u001b[0;36m200.\u001b[0m \u001b[0;34m+\u001b[0m \u001b[0;36m0.05\u001b[0m \u001b[0;34m*\u001b[0m \u001b[0mnp\u001b[0m\u001b[0;34m.\u001b[0m\u001b[0marange\u001b[0m\u001b[0;34m(\u001b[0m\u001b[0;36m2001\u001b[0m\u001b[0;34m)\u001b[0m\u001b[0;34m\u001b[0m\u001b[0m\n\u001b[1;32m      5\u001b[0m \u001b[0memeasure\u001b[0m \u001b[0;34m=\u001b[0m \u001b[0;34m[\u001b[0m\u001b[0;36m1.e+27\u001b[0m \u001b[0;34m,\u001b[0m\u001b[0;36m1.e+27\u001b[0m\u001b[0;34m]\u001b[0m\u001b[0;34m\u001b[0m\u001b[0m\n\u001b[0;32m----> 6\u001b[0;31m \u001b[0ms\u001b[0m \u001b[0;34m=\u001b[0m \u001b[0mch\u001b[0m\u001b[0;34m.\u001b[0m\u001b[0mspectrum\u001b[0m\u001b[0;34m(\u001b[0m\u001b[0mtemperature\u001b[0m\u001b[0;34m,\u001b[0m \u001b[0mdensity\u001b[0m\u001b[0;34m,\u001b[0m \u001b[0mwvl\u001b[0m\u001b[0;34m,\u001b[0m \u001b[0mfilter\u001b[0m \u001b[0;34m=\u001b[0m \u001b[0;34m(\u001b[0m\u001b[0mchfilters\u001b[0m\u001b[0;34m.\u001b[0m\u001b[0mgaussian\u001b[0m\u001b[0;34m,\u001b[0m\u001b[0;36m.2\u001b[0m\u001b[0;34m)\u001b[0m\u001b[0;34m,\u001b[0m \u001b[0mem\u001b[0m \u001b[0;34m=\u001b[0m \u001b[0memeasure\u001b[0m\u001b[0;34m,\u001b[0m \u001b[0mdoContinuum\u001b[0m\u001b[0;34m=\u001b[0m\u001b[0;36m0\u001b[0m\u001b[0;34m,\u001b[0m \u001b[0mminAbund\u001b[0m\u001b[0;34m=\u001b[0m\u001b[0;36m1.e-5\u001b[0m\u001b[0;34m)\u001b[0m\u001b[0;34m\u001b[0m\u001b[0m\n\u001b[0m\u001b[1;32m      7\u001b[0m \u001b[0msubplot\u001b[0m\u001b[0;34m(\u001b[0m\u001b[0;36m311\u001b[0m\u001b[0;34m)\u001b[0m\u001b[0;34m\u001b[0m\u001b[0m\n\u001b[1;32m      8\u001b[0m \u001b[0mplot\u001b[0m\u001b[0;34m(\u001b[0m\u001b[0mwvl\u001b[0m\u001b[0;34m,\u001b[0m \u001b[0ms\u001b[0m\u001b[0;34m.\u001b[0m\u001b[0mSpectrum\u001b[0m\u001b[0;34m[\u001b[0m\u001b[0;34m'integrated'\u001b[0m\u001b[0;34m]\u001b[0m\u001b[0;34m)\u001b[0m\u001b[0;34m\u001b[0m\u001b[0m\n",
      "\u001b[0;32m/usr/local/products/ChiantiPy/0.7.0/chiantipy/chianti/core/Spectrum.py\u001b[0m in \u001b[0;36m__init__\u001b[0;34m(self, temperature, eDensity, wavelength, filter, label, elementList, ionList, minAbund, doContinuum, em, keepIons, abundanceName, verbose, allLines)\u001b[0m\n\u001b[1;32m    209\u001b[0m                     \u001b[0mprint\u001b[0m\u001b[0;34m(\u001b[0m\u001b[0;34m' calculating spectrum for  :  %s'\u001b[0m\u001b[0;34m%\u001b[0m\u001b[0;34m(\u001b[0m\u001b[0makey\u001b[0m\u001b[0;34m)\u001b[0m\u001b[0;34m)\u001b[0m\u001b[0;34m\u001b[0m\u001b[0m\n\u001b[1;32m    210\u001b[0m                 \u001b[0mthisIon\u001b[0m \u001b[0;34m=\u001b[0m \u001b[0mchianti\u001b[0m\u001b[0;34m.\u001b[0m\u001b[0mcore\u001b[0m\u001b[0;34m.\u001b[0m\u001b[0mion\u001b[0m\u001b[0;34m(\u001b[0m\u001b[0makey\u001b[0m\u001b[0;34m,\u001b[0m \u001b[0mtemperature\u001b[0m\u001b[0;34m,\u001b[0m \u001b[0meDensity\u001b[0m\u001b[0;34m,\u001b[0m \u001b[0mabundanceName\u001b[0m\u001b[0;34m=\u001b[0m\u001b[0mself\u001b[0m\u001b[0;34m.\u001b[0m\u001b[0mAbundanceName\u001b[0m\u001b[0;34m)\u001b[0m\u001b[0;34m\u001b[0m\u001b[0m\n\u001b[0;32m--> 211\u001b[0;31m                 \u001b[0mthisIon\u001b[0m\u001b[0;34m.\u001b[0m\u001b[0mintensity\u001b[0m\u001b[0;34m(\u001b[0m\u001b[0mwvlRange\u001b[0m\u001b[0;34m=\u001b[0m\u001b[0mwvlRange\u001b[0m\u001b[0;34m,\u001b[0m \u001b[0mallLines\u001b[0m\u001b[0;34m=\u001b[0m\u001b[0mallLines\u001b[0m\u001b[0;34m,\u001b[0m \u001b[0mem\u001b[0m\u001b[0;34m=\u001b[0m\u001b[0mem\u001b[0m\u001b[0;34m)\u001b[0m\u001b[0;34m\u001b[0m\u001b[0m\n\u001b[0m\u001b[1;32m    212\u001b[0m                 \u001b[0mself\u001b[0m\u001b[0;34m.\u001b[0m\u001b[0mIonsCalculated\u001b[0m\u001b[0;34m.\u001b[0m\u001b[0mappend\u001b[0m\u001b[0;34m(\u001b[0m\u001b[0makey\u001b[0m\u001b[0;34m)\u001b[0m\u001b[0;34m\u001b[0m\u001b[0m\n\u001b[1;32m    213\u001b[0m                 \u001b[0;32mif\u001b[0m \u001b[0;34m'errorMessage'\u001b[0m \u001b[0;32mnot\u001b[0m \u001b[0;32min\u001b[0m  \u001b[0mlist\u001b[0m\u001b[0;34m(\u001b[0m\u001b[0mthisIon\u001b[0m\u001b[0;34m.\u001b[0m\u001b[0mIntensity\u001b[0m\u001b[0;34m.\u001b[0m\u001b[0mkeys\u001b[0m\u001b[0;34m(\u001b[0m\u001b[0;34m)\u001b[0m\u001b[0;34m)\u001b[0m\u001b[0;34m:\u001b[0m\u001b[0;34m\u001b[0m\u001b[0m\n",
      "\u001b[0;32m/usr/local/products/ChiantiPy/0.7.0/chiantipy/chianti/core/Ion.py\u001b[0m in \u001b[0;36mintensity\u001b[0;34m(self, wvlRange, allLines, em)\u001b[0m\n\u001b[1;32m   3416\u001b[0m         \u001b[0;32melse\u001b[0m\u001b[0;34m:\u001b[0m\u001b[0;34m\u001b[0m\u001b[0m\n\u001b[1;32m   3417\u001b[0m             \u001b[0mself\u001b[0m\u001b[0;34m.\u001b[0m\u001b[0mioneqOne\u001b[0m\u001b[0;34m(\u001b[0m\u001b[0;34m)\u001b[0m\u001b[0;34m\u001b[0m\u001b[0m\n\u001b[0;32m-> 3418\u001b[0;31m             \u001b[0mthisIoneq\u001b[0m\u001b[0;34m=\u001b[0m\u001b[0mself\u001b[0m\u001b[0;34m.\u001b[0m\u001b[0mIoneqOne\u001b[0m\u001b[0;34m\u001b[0m\u001b[0m\n\u001b[0m\u001b[1;32m   3419\u001b[0m \u001b[0;31m#        try:\u001b[0m\u001b[0;34m\u001b[0m\u001b[0;34m\u001b[0m\u001b[0m\n\u001b[1;32m   3420\u001b[0m \u001b[0;31m#            nwvl, ntempden = emissivity.shape\u001b[0m\u001b[0;34m\u001b[0m\u001b[0;34m\u001b[0m\u001b[0m\n",
      "\u001b[0;31mAttributeError\u001b[0m: 'ion' object has no attribute 'IoneqOne'"
     ]
    }
   ],
   "source": [
    "import chianti.filters as chfilters\n",
    "temperature = [1.e+6, 2.e+6]\n",
    "density = 1.e+9\n",
    "wvl = 200. + 0.05 * np.arange(2001)\n",
    "emeasure = [1.e+27 ,1.e+27]\n",
    "s = ch.spectrum(temperature, density, wvl, filter = (chfilters.gaussian,.2), em = emeasure, doContinuum=0, minAbund=1.e-5)\n",
    "subplot(311)\n",
    "plot(wvl, s.Spectrum['integrated'])\n",
    "subplot(312)\n",
    "plot(wvl, s.Spectrum['intensity'][0])\n",
    "subplot(313)\n",
    "plot(wvl, s.Spectrum['intensity'][1])\n"
   ]
  },
  {
   "cell_type": "code",
   "execution_count": null,
   "metadata": {
    "collapsed": true
   },
   "outputs": [],
   "source": [
    "print()"
   ]
  }
 ],
 "metadata": {
  "kernelspec": {
   "display_name": "Python 3",
   "language": "python",
   "name": "python3"
  },
  "language_info": {
   "codemirror_mode": {
    "name": "ipython",
    "version": 3
   },
   "file_extension": ".py",
   "mimetype": "text/x-python",
   "name": "python",
   "nbconvert_exporter": "python",
   "pygments_lexer": "ipython3",
   "version": "3.6.4"
  }
 },
 "nbformat": 4,
 "nbformat_minor": 0
}
