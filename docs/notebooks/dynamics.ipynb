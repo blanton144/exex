{
 "cells": [
  {
   "cell_type": "code",
   "execution_count": 5,
   "id": "b03131ae",
   "metadata": {},
   "outputs": [],
   "source": [
    "import matplotlib.pyplot as plt\n",
    "import numpy as np\n",
    "import scipy as sp"
   ]
  },
  {
   "cell_type": "markdown",
   "id": "b3d3dc26",
   "metadata": {},
   "source": [
    "# 1. Order of Magnitude Question #4 Calculations"
   ]
  },
  {
   "cell_type": "code",
   "execution_count": 6,
   "id": "fc737802",
   "metadata": {},
   "outputs": [],
   "source": [
    "def tf(M=None, Mtot=None, vc=None, ri=None):\n",
    "    \"\"\"Dynamical friction time\n",
    "    \n",
    "    Parameters\n",
    "    ----------\n",
    "    \n",
    "    M : float\n",
    "       mass of satellite (solar masses)\n",
    "    \n",
    "    Mtot : float\n",
    "       mass of host (solar masses)\n",
    "    \n",
    "    vc : float\n",
    "       circular velocity of host (km / s)\n",
    "    \n",
    "    ri : float\n",
    "       initial radius (kpc)\n",
    "       \n",
    "\"\"\"\n",
    "    ll = np.log(Mtot / M)\n",
    "    x = (2.6e11 / ll) * (ri / 2.)**2 * (vc / 250.) * (1e+6 / M)\n",
    "    return(x)"
   ]
  },
  {
   "cell_type": "code",
   "execution_count": 13,
   "id": "98e62ff6",
   "metadata": {},
   "outputs": [],
   "source": [
    "def tf_alt(M=None, Mtot=None, ri=None):\n",
    "    \"\"\"Dynamical friction time (alternate version)\n",
    "    \n",
    "    Parameters\n",
    "    ----------\n",
    "    \n",
    "    M : float\n",
    "       mass of satellite (solar masses)\n",
    "    \n",
    "    Mtot : float\n",
    "       mass of host (solar masses)\n",
    "    \n",
    "    ri : float\n",
    "       initial radius (kpc)\n",
    "       \n",
    "\"\"\"\n",
    "    ll = np.log(Mtot / M)\n",
    "    x = (1.5e11 / ll) * (ri / 2.)**1.5 * (Mtot / 1e+10)**0.5 * (1e+6 / M)\n",
    "    return(x)"
   ]
  },
  {
   "cell_type": "markdown",
   "id": "422190e2",
   "metadata": {},
   "source": [
    "The \"tf\"-based answers use guesses for the velocity dispersion and therefore circular velocity."
   ]
  },
  {
   "cell_type": "code",
   "execution_count": 24,
   "id": "b9e598d1",
   "metadata": {},
   "outputs": [
    {
     "name": "stdout",
     "output_type": "stream",
     "text": [
      "13.307344838046468\n"
     ]
    }
   ],
   "source": [
    "# (a) in billions of years\n",
    "print(tf(M=1e12, Mtot=1e15, vc=np.sqrt(2.) * 1000., ri=500) / 1.e+9)"
   ]
  },
  {
   "cell_type": "code",
   "execution_count": 25,
   "id": "c0483888",
   "metadata": {},
   "outputs": [
    {
     "name": "stdout",
     "output_type": "stream",
     "text": [
      "0.598830517712091\n"
     ]
    }
   ],
   "source": [
    "# (b) in billions of years\n",
    "print(tf(M=1e11, Mtot=1e12, vc=np.sqrt(2.) * 150., ri=50) / 1.e+9)"
   ]
  },
  {
   "cell_type": "code",
   "execution_count": 26,
   "id": "ce7c560a",
   "metadata": {},
   "outputs": [
    {
     "name": "stdout",
     "output_type": "stream",
     "text": [
      "3421.8886726405203\n"
     ]
    }
   ],
   "source": [
    "# (c) in billions of years\n",
    "print(tf(M=1e5, Mtot=1e12, vc=np.sqrt(2.) * 150., ri=10.) / 1.e+9)"
   ]
  },
  {
   "cell_type": "markdown",
   "id": "bfbdb9ec",
   "metadata": {},
   "source": [
    "The \"tf_alt\"-based answers assume that the circular velocity is constant and assume most of the mass of the system is interior to the starting point."
   ]
  },
  {
   "cell_type": "code",
   "execution_count": 29,
   "id": "167b8542",
   "metadata": {},
   "outputs": [
    {
     "name": "stdout",
     "output_type": "stream",
     "text": [
      "27.14340511895324\n",
      "0.8143021535685971\n",
      "10404.771254879177\n"
     ]
    }
   ],
   "source": [
    "print(tf_alt(M=1e12, Mtot=1e15, ri=500) / 1.e+9)\n",
    "print(tf_alt(M=1e11, Mtot=1e12, ri=50) / 1.e+9)\n",
    "print(tf_alt(M=1e5, Mtot=1e12, ri=10) / 1.e+9)"
   ]
  },
  {
   "cell_type": "markdown",
   "id": "fdf48b4a",
   "metadata": {},
   "source": [
    "# 2. Lowered Isothermal Model\n",
    "\n",
    "*Author: Rakshitha Thaman (mostly)*"
   ]
  },
  {
   "cell_type": "markdown",
   "id": "4b64e9b7",
   "metadata": {},
   "source": [
    "The lowered isothermal model is:\n",
    "\n",
    "$$f(E) = \\rho_1 \\left(2 \\pi \\sigma^2\\right)^{-3/2} \\left(\\exp\\left(-E/\\sigma^2\\right) - 1\\right)$$\n",
    "\n",
    "for $E<0$ and $f(E)=0$ otherwise."
   ]
  },
  {
   "cell_type": "markdown",
   "id": "849ceb8f",
   "metadata": {},
   "source": [
    "Let us first integrate this to get the density $\\rho$ and (assuming spherical symmetry) the radial equation for the potential $\\Phi(r)$."
   ]
  },
  {
   "cell_type": "markdown",
   "id": "6a9525f9",
   "metadata": {},
   "source": [
    "Assuming constant mass particles, we can treat the mass as unity and use the equation of energy:\n",
    "\n",
    "$$E = \\Phi(r) + \\frac{1}{2} v^2$$"
   ]
  },
  {
   "cell_type": "markdown",
   "id": "f932e608",
   "metadata": {},
   "source": [
    "Then we can integrate over velocity. At each radius $r$ the integral only extends to $E=0$ or $v=\\sqrt{-2\\Phi(r)}$:\n",
    "\n",
    "$$\\rho = \\int_0^\\sqrt{-2\\Phi} {\\rm d}^3v f(x, v) \n",
    "= \\int_0^\\sqrt{-2\\Phi} {\\rm d}^3v \\rho_1 \\left(2\\pi \\sigma^2\\right)^{-3/2} \\left(\\exp\\left(-E/\\sigma^2\\right) - 1\\right)$$"
   ]
  },
  {
   "cell_type": "markdown",
   "id": "cc250f37",
   "metadata": {},
   "source": [
    "$$\\rho \n",
    "= \\rho_1 \\left(2\\pi \\sigma^2\\right)^{-3/2} \\left[\\exp\\left(-\\Phi(r)/\\sigma^2\\right) \\int_0^\\sqrt{-2\\Phi} {\\rm d}^3v  \\exp\\left(-v^2/2 \\sigma^2\\right) - \\int_0^\\sqrt{-2\\Phi} {\\rm d}^3v \\right]$$"
   ]
  },
  {
   "cell_type": "markdown",
   "id": "b10a252a",
   "metadata": {},
   "source": [
    "The integral in the first term in square brackets becomes:\n",
    "\n",
    "$$I_1 = \\int_0^{\\sqrt{-2\\Phi}} 4\\pi v^2 {\\rm d}v \\exp\\left(-v^2/2\\sigma^2\\right)$$"
   ]
  },
  {
   "cell_type": "markdown",
   "id": "a33bf48f",
   "metadata": {},
   "source": [
    "and setting $a= \\sqrt{-\\Phi/\\sigma^2}$ and $x=v/\\sqrt{2}\\sigma$:\n",
    "\n",
    "$$I_1 = 4\\pi 2^{3/2} \\sigma^3 \\int_0^a x^2 {\\rm d}x \\exp\\left(-x^2\\right)$$"
   ]
  },
  {
   "cell_type": "markdown",
   "id": "240a35fb",
   "metadata": {},
   "source": [
    "Integration by parts yields:"
   ]
  },
  {
   "cell_type": "markdown",
   "id": "c9445405",
   "metadata": {},
   "source": [
    "$$I_1 = 4\\pi 2^{3/2} \\sigma^3 \\left( \\frac{\\sqrt{\\pi}}{4} {\\rm erf} a - \\frac{a}{2} \\exp\\left(-a^2\\right)\\right)$$\n"
   ]
  },
  {
   "cell_type": "markdown",
   "id": "ea475350",
   "metadata": {},
   "source": [
    "$$I_1 = 4\\pi 2^{3/2} \\sigma^3 \\left( \\frac{\\sqrt{\\pi}}{4} {\\rm erf} \\sqrt{-\\frac{\\Phi}{\\sigma^2}} - \\frac{1}{2} \\sqrt{-\\frac{\\Phi}{\\sigma^2}} \\exp\\left(\\frac{\\Phi}{\\sigma^2}\\right)\\right)$$\n"
   ]
  },
  {
   "cell_type": "markdown",
   "id": "91830ca3",
   "metadata": {},
   "source": [
    "The second term in square brackets is:\n",
    "\n",
    "$$I_2 = \\left. \\frac{4\\pi}{3} v^3 \\right|_0^{\\sqrt{-2\\Phi}} = \\frac{4\\pi}{3} \\left(-2\\Phi\\right)^{3/2}$$"
   ]
  },
  {
   "cell_type": "markdown",
   "id": "0121c741",
   "metadata": {},
   "source": [
    "Putting this together we find:\n",
    "\n",
    "$$\\rho = \\rho_1 \\left(2\\pi \\sigma^2\\right)^{-3/2} \\left[\\exp\\left(-\\Phi(r)/\\sigma^2\\right) I_1 - I_2\\right]$$"
   ]
  },
  {
   "cell_type": "markdown",
   "id": "7992a114",
   "metadata": {},
   "source": [
    "$$\\rho = \\rho_1 \\left(2\\pi \\sigma^2\\right)^{-3/2} \\left[ 4\\pi 2^{3/2} \\sigma^3 \\left( \\frac{\\sqrt{\\pi}}{4} \\exp\\left(-\\frac{\\Phi}{\\sigma^2}\\right) {\\rm erf} \\sqrt{-\\frac{\\Phi}{\\sigma^2}} - \\frac{1}{2} \\sqrt{-\\frac{\\Phi}{\\sigma^2}} \\right) - \\frac{4\\pi}{3} \\left(-2\\Phi\\right)^{3/2}\\right]$$"
   ]
  },
  {
   "cell_type": "markdown",
   "id": "ee91135b",
   "metadata": {},
   "source": [
    "$$\\rho = \\rho_1 \\left[ \\frac{4}{\\sqrt{\\pi}} \\left(\\frac{\\sqrt{\\pi}}{4} \\exp\\left(-\\frac{\\Phi}{\\sigma^2}\\right) {\\rm erf} \\sqrt{-\\frac{\\Phi}{\\sigma^2}} - \\frac{1}{2} \\sqrt{-\\frac{\\Phi}{\\sigma^2}} \\right) - \\frac{1}{3} \\sqrt{\\frac{2}{\\pi}} \\left(-\\frac{2\\Phi}{\\sigma^2}\\right)^{3/2}\\right] \n",
    "$$"
   ]
  },
  {
   "cell_type": "markdown",
   "id": "fb60dcaf",
   "metadata": {},
   "source": [
    "$$\\rho = \\rho_1 \\left[ \\exp\\left(-\\frac{\\Phi}{\\sigma^2}\\right) {\\rm erf} \\sqrt{-\\frac{\\Phi}{\\sigma^2}} \n",
    "- \\frac{2}{\\sqrt{\\pi}} \\sqrt{-\\frac{\\Phi}{\\sigma^2}} - \\frac{1}{3} \\sqrt{\\frac{2}{\\pi}} \\left(-\\frac{2\\Phi}{\\sigma^2}\\right)^{3/2}\\right] \n",
    "$$"
   ]
  },
  {
   "cell_type": "markdown",
   "id": "fa9e294c",
   "metadata": {},
   "source": [
    "$$\\rho = \\rho_1 \\left[ \\exp\\left(-\\frac{\\Phi}{\\sigma^2}\\right) {\\rm erf} \\sqrt{-\\frac{\\Phi}{\\sigma^2}} \n",
    "    - \\sqrt{- \\frac{4\\Phi}{\\pi \\sigma^2}} \\left(1 - \\frac{2\\Phi}{3\\sigma^2}\\right) \\right] \n",
    "$$"
   ]
  },
  {
   "cell_type": "markdown",
   "id": "de92855e",
   "metadata": {},
   "source": [
    "Which thank the lord matches Binney & Tremaine Equation 4.111! (With the replacement $\\Psi = - \\Phi$)."
   ]
  },
  {
   "cell_type": "markdown",
   "id": "901fa48c",
   "metadata": {},
   "source": [
    "Now Poisson's equation says:\n",
    "\n",
    "$$\\nabla^2 \\Phi = 4\\pi G \\rho$$\n",
    "\n",
    "so we can now write now an equation just in terms of $\\Phi$!"
   ]
  },
  {
   "cell_type": "markdown",
   "id": "a8066ca9",
   "metadata": {},
   "source": [
    "$$ \\frac{1}{r^2} \\frac{{\\rm d}}{{\\rm d}r} \\left(r^2 \\frac{{\\rm d}\\Phi}{{\\rm d}r}\\right) = 4 \\pi G \\rho(\\Phi)$$"
   ]
  },
  {
   "cell_type": "markdown",
   "id": "707db1b6",
   "metadata": {},
   "source": [
    "Now we define $y = \\Phi /\\sigma^2$, and we get:\n",
    "\n",
    "$$ \\frac{1}{r^2} \\frac{{\\rm d}}{{\\rm d}r} \\left(r^2 \\frac{{\\rm d}y}{{\\rm d}r}\\right) = \\frac{4 \\pi G}{\\sigma^2} \\rho(y)$$"
   ]
  },
  {
   "cell_type": "markdown",
   "id": "496d5ffa",
   "metadata": {},
   "source": [
    "This can be solved as a system of first-order equations, with the definition $x_0 = y$ and $x_1 = {\\rm d}y/{\\rm d}r$. The equation for $x_1$ can be found:\n",
    "\n",
    "$$\\frac{{\\rm d}}{{\\rm d}r}\\left(r^2 x_1\\right) = \\frac{4\\pi G}{\\sigma^2} r^2 \\rho(x_0)$$\n",
    "\n",
    "$$2 r x_1 + r^2 \\frac{{\\rm d}^2\\, x_1}{{\\rm d}r^2} = \\frac{4\\pi G}{\\sigma^2} r^2 \\rho(x_0) $$\n",
    "\n",
    "$$\\frac{{\\rm d}^2\\, x_1}{{\\rm d}r^2} = - \\frac{2 x_1}{r} + \\frac{4\\pi G }{\\sigma^2} \\rho(x_0) $$\n",
    "\n",
    "Putting all these equations together for convenience:"
   ]
  },
  {
   "cell_type": "markdown",
   "id": "00fdcd4e",
   "metadata": {},
   "source": [
    "$$x_0 = \\Phi/\\sigma^2$$\n",
    "\n",
    "$$\\rho(x_0) = \\rho_1 \\left[\\exp(- x_0) {\\rm erf}(\\sqrt{-x_0}) - \\sqrt{-\\frac{4x_0}{\\pi}} \\left(1 - \\frac{2x_0}{3}\\right)\\right]$$\n",
    "\n",
    "$$\\frac{{\\rm d}x_0}{{\\rm d}r} = x_1$$\n",
    "\n",
    "$$\\frac{{\\rm d}^2\\, x_1}{{\\rm d}r^2} = - \\frac{2 x_1}{r} + \\frac{4\\pi G }{\\sigma^2} \\rho(x_0) $$"
   ]
  },
  {
   "cell_type": "markdown",
   "id": "fddc3e18",
   "metadata": {},
   "source": [
    "We are told to use initial conditions where $x_0(r=0)= -n$, where $n=3$, $6$, and $12$. This sets the central density $\\rho_0 = \\rho(x_0)$ through the formula above. We will plot things in units of the King radius defined as:\n",
    "\n",
    "$$r_0 = \\sqrt{\\frac{9\\sigma^2}{4\\pi G \\rho_0}}$$"
   ]
  },
  {
   "cell_type": "markdown",
   "id": "dab0e99b",
   "metadata": {},
   "source": [
    "We will set $\\rho_1 = 1$ and $\\sigma = 1$ for convenience. Now we are ready to perform the calculation."
   ]
  },
  {
   "cell_type": "code",
   "execution_count": 4,
   "id": "5bb39993",
   "metadata": {},
   "outputs": [],
   "source": [
    "rho_1 = 1.\n",
    "sigma = 1.\n",
    "G = 6.67e-11"
   ]
  },
  {
   "cell_type": "code",
   "execution_count": 13,
   "id": "c01cf4de",
   "metadata": {},
   "outputs": [],
   "source": [
    "def rho_function(x0):\n",
    "    rhov = rho_1 * (np.exp(- x0) * sp.special.erf(np.sqrt(- x0)) - np.sqrt(- 4 * x0 / np.pi) * (1 - 2*x0/3))\n",
    "    return(rhov)"
   ]
  },
  {
   "cell_type": "code",
   "execution_count": 14,
   "id": "93dc1395",
   "metadata": {},
   "outputs": [],
   "source": [
    "def derivatives(x, r):\n",
    "    \"\"\"Returns derivatives defined above\"\"\"\n",
    "    return [x[1],\n",
    "            -2 / r * x[1] + 4 * np.pi * G * rho_1 / sigma**2 * rho_function(x[0])]"
   ]
  },
  {
   "cell_type": "code",
   "execution_count": 15,
   "id": "aa9dae82",
   "metadata": {},
   "outputs": [
    {
     "name": "stderr",
     "output_type": "stream",
     "text": [
      "<ipython-input-13-626eeccce21e>:2: RuntimeWarning: invalid value encountered in sqrt\n",
      "  rhov = rho_1 * (np.exp(- x0) * sp.special.erf(np.sqrt(- x0)) - np.sqrt(- 4 * x0 / np.pi) * (1 - 2*x0/3))\n"
     ]
    }
   ],
   "source": [
    "rho = np.zeros((3,10000))\n",
    "phi = np.zeros((3,10000))\n",
    "r_grid = np.zeros((3,10000))\n",
    "j = 0\n",
    "r_0 = np.zeros(3)\n",
    "for i in [-3,-6,-12]:\n",
    "    phi_0 = i * sigma**2\n",
    "    rho_0 = rho_function(phi_0 / sigma**2)\n",
    "    r_0[j] = np.sqrt(9 * sigma**2 / (4 * np.pi * G * rho_0))\n",
    "    r_grid[j] = np.linspace(0.0001, 500*r_0[j], 10000)\n",
    "    y, y_prime = sp.integrate.odeint(derivatives, [i, 0], r_grid[j]).T\n",
    "    phi[j] = y / sigma**2\n",
    "    rho[j] = rho_function(phi[j] / sigma**2)\n",
    "    j += 1"
   ]
  },
  {
   "cell_type": "code",
   "execution_count": 16,
   "id": "422a5db8",
   "metadata": {},
   "outputs": [
    {
     "data": {
      "text/plain": [
       "<matplotlib.legend.Legend at 0x123095dc0>"
      ]
     },
     "execution_count": 16,
     "metadata": {},
     "output_type": "execute_result"
    },
    {
     "data": {
      "image/png": "[encoded data removed]",
      "text/plain": [
       "<Figure size 432x288 with 1 Axes>"
      ]
     },
     "metadata": {
      "needs_background": "light"
     },
     "output_type": "display_data"
    }
   ],
   "source": [
    "plt.plot(r_grid[0]/r_0[0],phi[0],label=r'$\\phi$(r=0)=-3$\\sigma^2$')\n",
    "plt.plot(r_grid[1]/r_0[1],phi[1],label=r'$\\phi$(r=0)=-6$\\sigma^2$')\n",
    "plt.plot(r_grid[2]/r_0[2],phi[2],label=r'$\\phi$(r=0)=-12$\\sigma^2$')\n",
    "plt.xscale('log')\n",
    "plt.xlabel(r'$r/r_0$')\n",
    "plt.ylabel(r'$\\phi(r)$')\n",
    "plt.legend()"
   ]
  },
  {
   "cell_type": "code",
   "execution_count": 18,
   "id": "25e339d8",
   "metadata": {},
   "outputs": [
    {
     "data": {
      "image/png": "[encoded data removed]",
      "text/plain": [
       "<Figure size 432x288 with 1 Axes>"
      ]
     },
     "metadata": {
      "needs_background": "light"
     },
     "output_type": "display_data"
    }
   ],
   "source": [
    "plt.loglog(r_grid[0]/r_0[0],rho[0]/rho[0,0],label=r'$\\phi$(r=0)=-3$\\sigma^2$')\n",
    "plt.loglog(r_grid[1]/r_0[1],rho[1]/rho[1,0],label=r'$\\phi$(r=0)=-6$\\sigma^2$')\n",
    "plt.loglog(r_grid[2]/r_0[2],rho[2]/rho[2,0],label=r'$\\phi$(r=0)=-12$\\sigma^2$')\n",
    "plt.xlim(0.1,)\n",
    "plt.ylim(1e-6,)\n",
    "plt.ylabel(r'$\\rho/\\rho_0$')\n",
    "plt.legend()\n",
    "plt.xlabel(r'$r/r_0$')\n",
    "plt.tight_layout()"
   ]
  },
  {
   "cell_type": "code",
   "execution_count": null,
   "id": "aeeba1e9",
   "metadata": {},
   "outputs": [],
   "source": []
  }
 ],
 "metadata": {
  "kernelspec": {
   "display_name": "Python 3 (ipykernel)",
   "language": "python",
   "name": "python3"
  },
  "language_info": {
   "codemirror_mode": {
    "name": "ipython",
    "version": 3
   },
   "file_extension": ".py",
   "mimetype": "text/x-python",
   "name": "python",
   "nbconvert_exporter": "python",
   "pygments_lexer": "ipython3",
   "version": "3.11.5"
  }
 },
 "nbformat": 4,
 "nbformat_minor": 5
}
